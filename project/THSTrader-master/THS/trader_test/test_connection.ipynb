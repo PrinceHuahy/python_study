{
 "cells": [
  {
   "cell_type": "code",
   "execution_count": 1,
   "metadata": {},
   "outputs": [],
   "source": [
    "import pywinauto\n",
    "from pywinauto import clipboard\n",
    "import time"
   ]
  },
  {
   "cell_type": "code",
   "execution_count": 3,
   "outputs": [
    {
     "name": "stderr",
     "output_type": "stream",
     "text": [
      "C:\\Users\\chen\\miniconda3\\envs\\py310\\lib\\site-packages\\pywinauto\\application.py:1085: UserWarning: 32-bit application should be automated using 32-bit Python (you use 64-bit Python)\n",
      "  warnings.warn(\n"
     ]
    }
   ],
   "source": [
    "app = pywinauto.Application().connect(path=r\"C:\\同花顺软件\\同花顺免费模拟炒股软件\\mnxiadan.exe\",timeout=10)"
   ],
   "metadata": {
    "collapsed": false,
    "pycharm": {
     "name": "#%%\n"
    }
   }
  },
  {
   "cell_type": "code",
   "execution_count": 4,
   "outputs": [],
   "source": [
    "main = app.top_window()"
   ],
   "metadata": {
    "collapsed": false,
    "pycharm": {
     "name": "#%%\n"
    }
   }
  },
  {
   "cell_type": "code",
   "execution_count": 5,
   "outputs": [
    {
     "data": {
      "text/plain": "'网上股票交易系统5.0'"
     },
     "execution_count": 5,
     "metadata": {},
     "output_type": "execute_result"
    }
   ],
   "source": [
    "main.window_text()"
   ],
   "metadata": {
    "collapsed": false,
    "pycharm": {
     "name": "#%%\n"
    }
   }
  },
  {
   "cell_type": "code",
   "execution_count": 6,
   "outputs": [
    {
     "data": {
      "text/plain": "2099592"
     },
     "execution_count": 6,
     "metadata": {},
     "output_type": "execute_result"
    }
   ],
   "source": [
    "main.handle"
   ],
   "metadata": {
    "collapsed": false,
    "pycharm": {
     "name": "#%%\n"
    }
   }
  },
  {
   "cell_type": "code",
   "execution_count": 8,
   "outputs": [],
   "source": [
    "def get_left_menus_handle():\n",
    "    try:\n",
    "        handle = main.window(\n",
    "            control_id=0x81,\n",
    "#                 handle=0x20EB0,\n",
    "            class_name='SysTreeView32'\n",
    "        )\n",
    "        # sometime can't find handle ready, must retry\n",
    "        handle.wait('ready', 2)\n",
    "        return handle\n",
    "    except:\n",
    "        pass"
   ],
   "metadata": {
    "collapsed": false,
    "pycharm": {
     "name": "#%%\n"
    }
   }
  },
  {
   "cell_type": "code",
   "execution_count": 12,
   "metadata": {},
   "outputs": [
    {
     "data": {
      "text/plain": "<pywinauto.application.WindowSpecification at 0x20766263f70>"
     },
     "execution_count": 12,
     "metadata": {},
     "output_type": "execute_result"
    }
   ],
   "source": [
    "get_left_menus_handle()"
   ]
  },
  {
   "cell_type": "markdown",
   "metadata": {},
   "source": [
    "## 获取资金余额"
   ]
  },
  {
   "cell_type": "code",
   "execution_count": 15,
   "metadata": {
    "pycharm": {
     "name": "#%%\n"
    }
   },
   "outputs": [
    {
     "data": {
      "text/plain": "<pywinauto.controls.common_controls._treeview_element at 0x20766261030>"
     },
     "execution_count": 15,
     "metadata": {},
     "output_type": "execute_result"
    }
   ],
   "source": [
    "get_left_menus_handle().get_item([4]).click()"
   ]
  },
  {
   "cell_type": "code",
   "execution_count": 18,
   "metadata": {
    "pycharm": {
     "name": "#%%\n"
    }
   },
   "outputs": [
    {
     "ename": "ElementNotFoundError",
     "evalue": "{'control_id': 1038, 'class_name': 'Static', 'top_level_only': False, 'parent': <win32_element_info.HwndElementInfo - '网上股票交易系统5.0', Afx:400000:b:10003:6:15f0efd, 2099592>, 'backend': 'win32'}",
     "output_type": "error",
     "traceback": [
      "\u001B[1;31m---------------------------------------------------------------------------\u001B[0m",
      "\u001B[1;31mTimeoutError\u001B[0m                              Traceback (most recent call last)",
      "File \u001B[1;32m~\\miniconda3\\envs\\py310\\lib\\site-packages\\pywinauto\\application.py:250\u001B[0m, in \u001B[0;36mWindowSpecification.__resolve_control\u001B[1;34m(self, criteria, timeout, retry_interval)\u001B[0m\n\u001B[0;32m    249\u001B[0m \u001B[38;5;28;01mtry\u001B[39;00m:\n\u001B[1;32m--> 250\u001B[0m     ctrl \u001B[38;5;241m=\u001B[39m \u001B[43mwait_until_passes\u001B[49m\u001B[43m(\u001B[49m\n\u001B[0;32m    251\u001B[0m \u001B[43m        \u001B[49m\u001B[43mtimeout\u001B[49m\u001B[43m,\u001B[49m\n\u001B[0;32m    252\u001B[0m \u001B[43m        \u001B[49m\u001B[43mretry_interval\u001B[49m\u001B[43m,\u001B[49m\n\u001B[0;32m    253\u001B[0m \u001B[43m        \u001B[49m\u001B[38;5;28;43mself\u001B[39;49m\u001B[38;5;241;43m.\u001B[39;49m\u001B[43m__get_ctrl\u001B[49m\u001B[43m,\u001B[49m\n\u001B[0;32m    254\u001B[0m \u001B[43m        \u001B[49m\u001B[43m(\u001B[49m\u001B[43mfindwindows\u001B[49m\u001B[38;5;241;43m.\u001B[39;49m\u001B[43mElementNotFoundError\u001B[49m\u001B[43m,\u001B[49m\n\u001B[0;32m    255\u001B[0m \u001B[43m         \u001B[49m\u001B[43mfindbestmatch\u001B[49m\u001B[38;5;241;43m.\u001B[39;49m\u001B[43mMatchError\u001B[49m\u001B[43m,\u001B[49m\n\u001B[0;32m    256\u001B[0m \u001B[43m         \u001B[49m\u001B[43mcontrols\u001B[49m\u001B[38;5;241;43m.\u001B[39;49m\u001B[43mInvalidWindowHandle\u001B[49m\u001B[43m,\u001B[49m\n\u001B[0;32m    257\u001B[0m \u001B[43m         \u001B[49m\u001B[43mcontrols\u001B[49m\u001B[38;5;241;43m.\u001B[39;49m\u001B[43mInvalidElement\u001B[49m\u001B[43m)\u001B[49m\u001B[43m,\u001B[49m\n\u001B[0;32m    258\u001B[0m \u001B[43m        \u001B[49m\u001B[43mcriteria\u001B[49m\u001B[43m)\u001B[49m\n\u001B[0;32m    260\u001B[0m \u001B[38;5;28;01mexcept\u001B[39;00m \u001B[38;5;167;01mTimeoutError\u001B[39;00m \u001B[38;5;28;01mas\u001B[39;00m e:\n",
      "File \u001B[1;32m~\\miniconda3\\envs\\py310\\lib\\site-packages\\pywinauto\\timings.py:458\u001B[0m, in \u001B[0;36mwait_until_passes\u001B[1;34m(timeout, retry_interval, func, exceptions, *args, **kwargs)\u001B[0m\n\u001B[0;32m    457\u001B[0m             err\u001B[38;5;241m.\u001B[39moriginal_exception \u001B[38;5;241m=\u001B[39m e\n\u001B[1;32m--> 458\u001B[0m             \u001B[38;5;28;01mraise\u001B[39;00m err\n\u001B[0;32m    460\u001B[0m \u001B[38;5;66;03m# return the function value\u001B[39;00m\n",
      "\u001B[1;31mTimeoutError\u001B[0m: ",
      "\nDuring handling of the above exception, another exception occurred:\n",
      "\u001B[1;31mElementNotFoundError\u001B[0m                      Traceback (most recent call last)",
      "Input \u001B[1;32mIn [18]\u001B[0m, in \u001B[0;36m<cell line: 2>\u001B[1;34m()\u001B[0m\n\u001B[0;32m      1\u001B[0m result \u001B[38;5;241m=\u001B[39m {\n\u001B[1;32m----> 2\u001B[0m     \u001B[38;5;124m\"\u001B[39m\u001B[38;5;124m资金余额\u001B[39m\u001B[38;5;124m\"\u001B[39m:  \u001B[43mmain\u001B[49m\u001B[38;5;241;43m.\u001B[39;49m\u001B[43mchild_window\u001B[49m\u001B[43m(\u001B[49m\u001B[43mcontrol_id\u001B[49m\u001B[38;5;241;43m=\u001B[39;49m\u001B[38;5;241;43m0x40E\u001B[39;49m\u001B[43m,\u001B[49m\u001B[43m \u001B[49m\u001B[43mclass_name\u001B[49m\u001B[38;5;241;43m=\u001B[39;49m\u001B[38;5;124;43m'\u001B[39;49m\u001B[38;5;124;43mStatic\u001B[39;49m\u001B[38;5;124;43m'\u001B[39;49m\u001B[43m)\u001B[49m\u001B[38;5;241;43m.\u001B[39;49m\u001B[43mwindow_text\u001B[49m()\n\u001B[0;32m      3\u001B[0m }\n",
      "File \u001B[1;32m~\\miniconda3\\envs\\py310\\lib\\site-packages\\pywinauto\\application.py:379\u001B[0m, in \u001B[0;36mWindowSpecification.__getattribute__\u001B[1;34m(self, attr_name)\u001B[0m\n\u001B[0;32m    374\u001B[0m \u001B[38;5;66;03m# if we already have 2 levels of criteria (dlg, control)\u001B[39;00m\n\u001B[0;32m    375\u001B[0m \u001B[38;5;66;03m# this third must be an attribute so resolve and get the\u001B[39;00m\n\u001B[0;32m    376\u001B[0m \u001B[38;5;66;03m# attribute and return it\u001B[39;00m\n\u001B[0;32m    377\u001B[0m \u001B[38;5;28;01mif\u001B[39;00m \u001B[38;5;28mlen\u001B[39m(\u001B[38;5;28mself\u001B[39m\u001B[38;5;241m.\u001B[39mcriteria) \u001B[38;5;241m>\u001B[39m\u001B[38;5;241m=\u001B[39m \u001B[38;5;241m2\u001B[39m:  \u001B[38;5;66;03m# FIXME - this is surprising\u001B[39;00m\n\u001B[1;32m--> 379\u001B[0m     ctrls \u001B[38;5;241m=\u001B[39m \u001B[38;5;28;43mself\u001B[39;49m\u001B[38;5;241;43m.\u001B[39;49m\u001B[43m__resolve_control\u001B[49m\u001B[43m(\u001B[49m\u001B[38;5;28;43mself\u001B[39;49m\u001B[38;5;241;43m.\u001B[39;49m\u001B[43mcriteria\u001B[49m\u001B[43m)\u001B[49m\n\u001B[0;32m    381\u001B[0m     \u001B[38;5;28;01mtry\u001B[39;00m:\n\u001B[0;32m    382\u001B[0m         \u001B[38;5;28;01mreturn\u001B[39;00m \u001B[38;5;28mgetattr\u001B[39m(ctrls[\u001B[38;5;241m-\u001B[39m\u001B[38;5;241m1\u001B[39m], attr_name)\n",
      "File \u001B[1;32m~\\miniconda3\\envs\\py310\\lib\\site-packages\\pywinauto\\application.py:261\u001B[0m, in \u001B[0;36mWindowSpecification.__resolve_control\u001B[1;34m(self, criteria, timeout, retry_interval)\u001B[0m\n\u001B[0;32m    250\u001B[0m     ctrl \u001B[38;5;241m=\u001B[39m wait_until_passes(\n\u001B[0;32m    251\u001B[0m         timeout,\n\u001B[0;32m    252\u001B[0m         retry_interval,\n\u001B[1;32m   (...)\u001B[0m\n\u001B[0;32m    257\u001B[0m          controls\u001B[38;5;241m.\u001B[39mInvalidElement),\n\u001B[0;32m    258\u001B[0m         criteria)\n\u001B[0;32m    260\u001B[0m \u001B[38;5;28;01mexcept\u001B[39;00m \u001B[38;5;167;01mTimeoutError\u001B[39;00m \u001B[38;5;28;01mas\u001B[39;00m e:\n\u001B[1;32m--> 261\u001B[0m     \u001B[38;5;28;01mraise\u001B[39;00m e\u001B[38;5;241m.\u001B[39moriginal_exception\n\u001B[0;32m    263\u001B[0m \u001B[38;5;28;01mreturn\u001B[39;00m ctrl\n",
      "File \u001B[1;32m~\\miniconda3\\envs\\py310\\lib\\site-packages\\pywinauto\\timings.py:436\u001B[0m, in \u001B[0;36mwait_until_passes\u001B[1;34m(timeout, retry_interval, func, exceptions, *args, **kwargs)\u001B[0m\n\u001B[0;32m    433\u001B[0m \u001B[38;5;28;01mwhile\u001B[39;00m \u001B[38;5;28;01mTrue\u001B[39;00m:\n\u001B[0;32m    434\u001B[0m     \u001B[38;5;28;01mtry\u001B[39;00m:\n\u001B[0;32m    435\u001B[0m         \u001B[38;5;66;03m# Call the function with any arguments\u001B[39;00m\n\u001B[1;32m--> 436\u001B[0m         func_val \u001B[38;5;241m=\u001B[39m func(\u001B[38;5;241m*\u001B[39margs, \u001B[38;5;241m*\u001B[39m\u001B[38;5;241m*\u001B[39mkwargs)\n\u001B[0;32m    438\u001B[0m         \u001B[38;5;66;03m# if no exception is raised then we are finished\u001B[39;00m\n\u001B[0;32m    439\u001B[0m         \u001B[38;5;28;01mbreak\u001B[39;00m\n",
      "File \u001B[1;32m~\\miniconda3\\envs\\py310\\lib\\site-packages\\pywinauto\\application.py:222\u001B[0m, in \u001B[0;36mWindowSpecification.__get_ctrl\u001B[1;34m(self, criteria_)\u001B[0m\n\u001B[0;32m    220\u001B[0m \u001B[38;5;28;01mif\u001B[39;00m \u001B[38;5;124m'\u001B[39m\u001B[38;5;124mbackend\u001B[39m\u001B[38;5;124m'\u001B[39m \u001B[38;5;129;01mnot\u001B[39;00m \u001B[38;5;129;01min\u001B[39;00m ctrl_criteria:\n\u001B[0;32m    221\u001B[0m     ctrl_criteria[\u001B[38;5;124m'\u001B[39m\u001B[38;5;124mbackend\u001B[39m\u001B[38;5;124m'\u001B[39m] \u001B[38;5;241m=\u001B[39m \u001B[38;5;28mself\u001B[39m\u001B[38;5;241m.\u001B[39mbackend\u001B[38;5;241m.\u001B[39mname\n\u001B[1;32m--> 222\u001B[0m ctrl \u001B[38;5;241m=\u001B[39m \u001B[38;5;28mself\u001B[39m\u001B[38;5;241m.\u001B[39mbackend\u001B[38;5;241m.\u001B[39mgeneric_wrapper_class(findwindows\u001B[38;5;241m.\u001B[39mfind_element(\u001B[38;5;241m*\u001B[39m\u001B[38;5;241m*\u001B[39mctrl_criteria))\n\u001B[0;32m    223\u001B[0m previous_parent \u001B[38;5;241m=\u001B[39m ctrl\u001B[38;5;241m.\u001B[39melement_info\n\u001B[0;32m    224\u001B[0m ctrls\u001B[38;5;241m.\u001B[39mappend(ctrl)\n",
      "File \u001B[1;32m~\\miniconda3\\envs\\py310\\lib\\site-packages\\pywinauto\\findwindows.py:87\u001B[0m, in \u001B[0;36mfind_element\u001B[1;34m(**kwargs)\u001B[0m\n\u001B[0;32m     84\u001B[0m elements \u001B[38;5;241m=\u001B[39m find_elements(\u001B[38;5;241m*\u001B[39m\u001B[38;5;241m*\u001B[39mkwargs)\n\u001B[0;32m     86\u001B[0m \u001B[38;5;28;01mif\u001B[39;00m \u001B[38;5;129;01mnot\u001B[39;00m elements:\n\u001B[1;32m---> 87\u001B[0m     \u001B[38;5;28;01mraise\u001B[39;00m ElementNotFoundError(kwargs)\n\u001B[0;32m     89\u001B[0m \u001B[38;5;28;01mif\u001B[39;00m \u001B[38;5;28mlen\u001B[39m(elements) \u001B[38;5;241m>\u001B[39m \u001B[38;5;241m1\u001B[39m:\n\u001B[0;32m     90\u001B[0m     exception \u001B[38;5;241m=\u001B[39m ElementAmbiguousError(\n\u001B[0;32m     91\u001B[0m         \u001B[38;5;124m\"\u001B[39m\u001B[38;5;124mThere are \u001B[39m\u001B[38;5;132;01m{0}\u001B[39;00m\u001B[38;5;124m elements that match the criteria \u001B[39m\u001B[38;5;132;01m{1}\u001B[39;00m\u001B[38;5;124m\"\u001B[39m\u001B[38;5;241m.\u001B[39mformat(\n\u001B[0;32m     92\u001B[0m             \u001B[38;5;28mlen\u001B[39m(elements),\n\u001B[0;32m     93\u001B[0m             six\u001B[38;5;241m.\u001B[39mtext_type(kwargs),\n\u001B[0;32m     94\u001B[0m         )\n\u001B[0;32m     95\u001B[0m     )\n",
      "\u001B[1;31mElementNotFoundError\u001B[0m: {'control_id': 1038, 'class_name': 'Static', 'top_level_only': False, 'parent': <win32_element_info.HwndElementInfo - '网上股票交易系统5.0', Afx:400000:b:10003:6:15f0efd, 2099592>, 'backend': 'win32'}"
     ]
    }
   ],
   "source": [
    "result = {\n",
    "    \"资金余额\":  main.child_window(control_id=0x40E, class_name='Static').window_text()\n",
    "}"
   ]
  },
  {
   "cell_type": "code",
   "execution_count": 17,
   "metadata": {},
   "outputs": [
    {
     "ename": "NameError",
     "evalue": "name 'result' is not defined",
     "output_type": "error",
     "traceback": [
      "\u001B[1;31m---------------------------------------------------------------------------\u001B[0m",
      "\u001B[1;31mNameError\u001B[0m                                 Traceback (most recent call last)",
      "Input \u001B[1;32mIn [17]\u001B[0m, in \u001B[0;36m<cell line: 1>\u001B[1;34m()\u001B[0m\n\u001B[1;32m----> 1\u001B[0m \u001B[43mresult\u001B[49m\n",
      "\u001B[1;31mNameError\u001B[0m: name 'result' is not defined"
     ]
    }
   ],
   "source": [
    "result"
   ]
  },
  {
   "cell_type": "markdown",
   "metadata": {},
   "source": [
    "## 查询持有股票"
   ]
  },
  {
   "cell_type": "code",
   "execution_count": 19,
   "metadata": {},
   "outputs": [
    {
     "data": {
      "text/plain": "<pywinauto.controls.common_controls._treeview_element at 0x20762dba020>"
     },
     "execution_count": 19,
     "metadata": {},
     "output_type": "execute_result"
    }
   ],
   "source": [
    "get_left_menus_handle().get_item([0]).click()"
   ]
  },
  {
   "cell_type": "code",
   "execution_count": 20,
   "metadata": {},
   "outputs": [
    {
     "name": "stderr",
     "output_type": "stream",
     "text": [
      "C:\\Users\\chen\\AppData\\Local\\Temp\\ipykernel_7176\\2455014987.py:8: DeprecationWarning: Method .SendKeys() is deprecated, use .send_keys() instead.\n",
      "  pywinauto.keyboard.SendKeys('^w')\n",
      "C:\\Users\\chen\\miniconda3\\envs\\py310\\lib\\site-packages\\pywinauto\\application.py:290: DeprecationWarning: WindowSpecification.Window() WindowSpecification.Window_(), WindowSpecification.window() and WindowSpecification.window_() are deprecated, please switch to WindowSpecification.child_window()\n",
      "  warnings.warn(\n"
     ]
    },
    {
     "name": "stdout",
     "output_type": "stream",
     "text": [
      "Ö¤È¯´úÂë\tÖ¤È¯Ãû³Æ\t¹ÉÆ±Óà¶î\t¿ÉÓÃÓà¶î\t¶³½áÊýÁ¿\tÓ¯¿÷\t³É±¾¼Û\tÓ¯¿÷±È(%)\tÊÐ¼Û\tÊÐÖµ\t½»Ò×ÊÐ³¡\t¹É¶«ÕÊ»§\tÊµ¼ÊÊýÁ¿\t¿ÉÉêÊêÊýÁ¿\t×ÊÑ¶\n"
     ]
    },
    {
     "name": "stderr",
     "output_type": "stream",
     "text": [
      "C:\\Users\\chen\\AppData\\Local\\Temp\\ipykernel_7176\\2455014987.py:14: DeprecationWarning: Method .SendKeys() is deprecated, use .send_keys() instead.\n",
      "  pywinauto.keyboard.SendKeys('^c')\n"
     ]
    }
   ],
   "source": [
    "switch_tab = main.window(\n",
    "    control_id=0x54B,\n",
    "    class_name='CCustomTabCtrl'\n",
    ")\n",
    "time.sleep(0.5)\n",
    "main.set_focus()\n",
    "time.sleep(0.5)\n",
    "pywinauto.keyboard.SendKeys('^w')\n",
    "\n",
    "grid = main.window(control_id=0x417, class_name='CVirtualGridCtrl')\n",
    "\n",
    "grid.set_focus() #.right_click()   # 模拟右键\n",
    "\n",
    "pywinauto.keyboard.SendKeys('^c')\n",
    "# time.sleep(0.1)\n",
    "# pywinauto.keyboard.SendKeys('{DOWN}')\n",
    "# time.sleep(0.1)\n",
    "# pywinauto.keyboard.SendKeys(\"{ENTER}\")\n",
    "\n",
    "\n",
    "print(clipboard.GetData())  # "
   ]
  },
  {
   "cell_type": "code",
   "execution_count": 21,
   "metadata": {},
   "outputs": [],
   "source": [
    "import pandas as pd\n",
    "import io"
   ]
  },
  {
   "cell_type": "code",
   "execution_count": 22,
   "metadata": {},
   "outputs": [
    {
     "data": {
      "text/plain": "Empty DataFrame\nColumns: [Ö¤È¯´úÂë, Ö¤È¯Ãû³Æ, ¹ÉÆ±Óà¶î, ¿ÉÓÃÓà¶î, ¶³½áÊýÁ¿, Ó¯¿÷, ³É±¾¼Û, Ó¯¿÷±È(%), ÊÐ¼Û, ÊÐÖµ, ½»Ò×ÊÐ³¡, ¹É¶«ÕÊ»§, Êµ¼ÊÊýÁ¿, ¿ÉÉêÊêÊýÁ¿, ×ÊÑ¶]\nIndex: []",
      "text/html": "<div>\n<style scoped>\n    .dataframe tbody tr th:only-of-type {\n        vertical-align: middle;\n    }\n\n    .dataframe tbody tr th {\n        vertical-align: top;\n    }\n\n    .dataframe thead th {\n        text-align: right;\n    }\n</style>\n<table border=\"1\" class=\"dataframe\">\n  <thead>\n    <tr style=\"text-align: right;\">\n      <th></th>\n      <th>Ö¤È¯´úÂë</th>\n      <th>Ö¤È¯Ãû³Æ</th>\n      <th>¹ÉÆ±Óà¶î</th>\n      <th>¿ÉÓÃÓà¶î</th>\n      <th>¶³½áÊýÁ¿</th>\n      <th>Ó¯¿÷</th>\n      <th>³É±¾¼Û</th>\n      <th>Ó¯¿÷±È(%)</th>\n      <th>ÊÐ¼Û</th>\n      <th>ÊÐÖµ</th>\n      <th>½»Ò×ÊÐ³¡</th>\n      <th>¹É¶«ÕÊ»§</th>\n      <th>Êµ¼ÊÊýÁ¿</th>\n      <th>¿ÉÉêÊêÊýÁ¿</th>\n      <th>×ÊÑ¶</th>\n    </tr>\n  </thead>\n  <tbody>\n  </tbody>\n</table>\n</div>"
     },
     "execution_count": 22,
     "metadata": {},
     "output_type": "execute_result"
    }
   ],
   "source": [
    "data = clipboard.GetData()\n",
    "df = pd.read_csv(io.StringIO(data),\n",
    "                 delimiter='\\t',\n",
    "                 na_filter=False)\n",
    "df"
   ]
  },
  {
   "cell_type": "code",
   "execution_count": 143,
   "metadata": {},
   "outputs": [
    {
     "data": {
      "text/plain": [
       "[{'证券代码': 333,\n",
       "  '证券名称': '美的集团',\n",
       "  '股票余额': 200,\n",
       "  '可用余额': 200,\n",
       "  '冻结数量': 0,\n",
       "  '盈亏': 6157.88,\n",
       "  '成本价': 17.811,\n",
       "  '盈亏比(%)': 172.87,\n",
       "  '市价': 48.6,\n",
       "  '市值': 9720.0,\n",
       "  '交易市场': '深圳Ａ股',\n",
       "  '股东帐户': '00101106569',\n",
       "  '实际数量': 200,\n",
       "  '可申赎数量': 200,\n",
       "  'Unnamed: 14': ''},\n",
       " {'证券代码': 651,\n",
       "  '证券名称': '格力电器',\n",
       "  '股票余额': 1100,\n",
       "  '可用余额': 1100,\n",
       "  '冻结数量': 0,\n",
       "  '盈亏': 4060.7,\n",
       "  '成本价': 46.608000000000004,\n",
       "  '盈亏比(%)': 7.92,\n",
       "  '市价': 50.3,\n",
       "  '市值': 55330.0,\n",
       "  '交易市场': '深圳Ａ股',\n",
       "  '股东帐户': '00101106569',\n",
       "  '实际数量': 1100,\n",
       "  '可申赎数量': 1100,\n",
       "  'Unnamed: 14': ''},\n",
       " {'证券代码': 162411,\n",
       "  '证券名称': '华宝油气',\n",
       "  '股票余额': 1300,\n",
       "  '可用余额': 1200,\n",
       "  '冻结数量': 100,\n",
       "  '盈亏': -473.98,\n",
       "  '成本价': 0.591,\n",
       "  '盈亏比(%)': -61.73,\n",
       "  '市价': 0.226,\n",
       "  '市值': 293.8,\n",
       "  '交易市场': '深圳Ａ股',\n",
       "  '股东帐户': '00101106569',\n",
       "  '实际数量': 1300,\n",
       "  '可申赎数量': 1200,\n",
       "  'Unnamed: 14': ''},\n",
       " {'证券代码': 600048,\n",
       "  '证券名称': '保利地产',\n",
       "  '股票余额': 3800,\n",
       "  '可用余额': 3800,\n",
       "  '冻结数量': 0,\n",
       "  '盈亏': 2718.06,\n",
       "  '成本价': 13.285,\n",
       "  '盈亏比(%)': 5.38,\n",
       "  '市价': 14.0,\n",
       "  '市值': 53200.0,\n",
       "  '交易市场': '上海Ａ股',\n",
       "  '股东帐户': 'A476826692',\n",
       "  '实际数量': 3800,\n",
       "  '可申赎数量': 3800,\n",
       "  'Unnamed: 14': ''},\n",
       " {'证券代码': 601155,\n",
       "  '证券名称': '新城控股',\n",
       "  '股票余额': 1600,\n",
       "  '可用余额': 1600,\n",
       "  '冻结数量': 0,\n",
       "  '盈亏': -3270.52,\n",
       "  '成本价': 29.284000000000002,\n",
       "  '盈亏比(%)': -6.98,\n",
       "  '市价': 27.24,\n",
       "  '市值': 43584.0,\n",
       "  '交易市场': '上海Ａ股',\n",
       "  '股东帐户': 'A476826692',\n",
       "  '实际数量': 1600,\n",
       "  '可申赎数量': 1600,\n",
       "  'Unnamed: 14': ''}]"
      ]
     },
     "execution_count": 143,
     "metadata": {},
     "output_type": "execute_result"
    }
   ],
   "source": [
    "df.to_dict('records')"
   ]
  },
  {
   "cell_type": "code",
   "execution_count": 36,
   "metadata": {},
   "outputs": [
    {
     "data": {
      "text/plain": [
       "162127.8"
      ]
     },
     "execution_count": 36,
     "metadata": {},
     "output_type": "execute_result"
    }
   ],
   "source": [
    "df[\"市值\"].sum()"
   ]
  },
  {
   "cell_type": "markdown",
   "metadata": {},
   "source": [
    "## 模拟买入"
   ]
  },
  {
   "cell_type": "code",
   "execution_count": 37,
   "metadata": {},
   "outputs": [],
   "source": [
    "get_left_menus_handle().get_item(['买入[F1]']).click()"
   ]
  },
  {
   "cell_type": "code",
   "execution_count": 38,
   "metadata": {},
   "outputs": [],
   "source": [
    "grid = main.window(control_id=0x417, class_name='CVirtualGridCtrl')"
   ]
  },
  {
   "cell_type": "code",
   "execution_count": 39,
   "metadata": {},
   "outputs": [],
   "source": [
    "stock_id = \"162411\""
   ]
  },
  {
   "cell_type": "code",
   "execution_count": 49,
   "metadata": {
    "scrolled": true
   },
   "outputs": [
    {
     "name": "stdout",
     "output_type": "stream",
     "text": [
      "您的买入委托已成功提交，合同编号：1428398429。\n"
     ]
    }
   ],
   "source": [
    "main.window(control_id=0x408, class_name=\"Edit\").set_text(stock_id)  # 设置股票代码\n",
    "\n",
    "main.window(control_id=0x409, class_name=\"Edit\").set_text(\"0.218\")  # 设置价格\n",
    "\n",
    "main.window(control_id=0x40A, class_name=\"Edit\").set_text(\"100\")   # 设置股数目\n",
    "\n",
    "main.window(control_id=0x3EE, class_name=\"Button\").click()   # 点击买入\n",
    "time.sleep(0.5)\n",
    "app.top_window().set_focus()\n",
    "app.top_window().window(control_id=0x6, class_name='Button').click()  # 确定买入\n",
    "time.sleep(0.5)\n",
    "app.top_window().set_focus()\n",
    "print(app.top_window().window(control_id=0x3EC, class_name='Static').window_text())\n",
    "time.sleep(0.5)\n",
    "app.top_window().set_focus()\n",
    "app.top_window().window(control_id=0x2, class_name='Button').click()  # 确定"
   ]
  },
  {
   "cell_type": "markdown",
   "metadata": {},
   "source": [
    "## 模拟卖出"
   ]
  },
  {
   "cell_type": "code",
   "execution_count": 51,
   "metadata": {},
   "outputs": [],
   "source": [
    "get_left_menus_handle().get_item(['卖出[F2]']).click()"
   ]
  },
  {
   "cell_type": "code",
   "execution_count": 52,
   "metadata": {},
   "outputs": [
    {
     "name": "stdout",
     "output_type": "stream",
     "text": [
      "您的卖出委托已成功提交，合同编号：1428473361。\n"
     ]
    }
   ],
   "source": [
    "main.window(control_id=0x408, class_name=\"Edit\").set_text(stock_id)  # 设置股票代码\n",
    "\n",
    "main.window(control_id=0x409, class_name=\"Edit\").set_text(\"0.238\")  # 设置价格\n",
    "\n",
    "main.window(control_id=0x40A, class_name=\"Edit\").set_text(\"100\")   # 设置股数目\n",
    "\n",
    "main.window(control_id=0x3EE, class_name=\"Button\").click()   # 点击卖出\n",
    "time.sleep(0.5)\n",
    "app.top_window().set_focus()\n",
    "app.top_window().window(control_id=0x6, class_name='Button').click()  # 确定卖出\n",
    "time.sleep(0.5)\n",
    "app.top_window().set_focus()\n",
    "print(app.top_window().window(control_id=0x3EC, class_name='Static').window_text())\n",
    "time.sleep(0.5)\n",
    "app.top_window().set_focus()\n",
    "app.top_window().window(control_id=0x2, class_name='Button').click()  # 确定"
   ]
  },
  {
   "cell_type": "markdown",
   "metadata": {},
   "source": [
    "## 获取当前的委托"
   ]
  },
  {
   "cell_type": "code",
   "execution_count": 71,
   "metadata": {},
   "outputs": [],
   "source": [
    "get_left_menus_handle().get_item([0]).click()"
   ]
  },
  {
   "cell_type": "code",
   "execution_count": 80,
   "metadata": {
    "scrolled": true
   },
   "outputs": [
    {
     "name": "stdout",
     "output_type": "stream",
     "text": [
      "委托时间\t证券代码\t证券名称\t操作\t备注\t委托数量\t成交数量\t撤消数量\t委托价格\t订单类型\t成交均价\t合同编号\t\r\n",
      "16:53:01\t162411\t华宝油气\t买入\t全部撤单\t100\t0\t100\t0.218\t限价\t0.000\t1428348934\t\r\n",
      "16:54:30\t162411\t华宝油气\t买入\t全部撤单\t100\t0\t100\t0.218\t限价\t0.000\t1428398429\t\r\n",
      "17:00:25\t162411\t华宝油气\t卖出\t未成交\t100\t0\t0\t0.238\t限价\t0.000\t1428473361\t\r\n",
      "17:06:34\t162411\t华宝油气\t买入\t未成交\t100\t0\t0\t0.226\t限价\t0.000\t1428426470\t\r\n",
      "16:52:04\t162411\t华宝油气\t买入\t全部撤单\t100\t0\t100\t0.218\t限价\t0.000\t1428339249\n"
     ]
    }
   ],
   "source": [
    "switch_tab = main.window(\n",
    "    control_id=0x54B,\n",
    "    class_name='CCustomTabCtrl'\n",
    ")\n",
    "main.set_focus()\n",
    "time.sleep(0.5)\n",
    "pywinauto.keyboard.SendKeys('^r')\n",
    "\n",
    "grid = main.window(control_id=0x417, class_name='CVirtualGridCtrl')\n",
    "\n",
    "grid.set_focus() #.right_click()   # 模拟右键\n",
    "\n",
    "pywinauto.keyboard.SendKeys('^c')\n",
    "\n",
    "data = clipboard.GetData() #\n",
    "print(data)"
   ]
  },
  {
   "cell_type": "code",
   "execution_count": 81,
   "metadata": {},
   "outputs": [
    {
     "data": {
      "text/html": [
       "<div>\n",
       "<style scoped>\n",
       "    .dataframe tbody tr th:only-of-type {\n",
       "        vertical-align: middle;\n",
       "    }\n",
       "\n",
       "    .dataframe tbody tr th {\n",
       "        vertical-align: top;\n",
       "    }\n",
       "\n",
       "    .dataframe thead th {\n",
       "        text-align: right;\n",
       "    }\n",
       "</style>\n",
       "<table border=\"1\" class=\"dataframe\">\n",
       "  <thead>\n",
       "    <tr style=\"text-align: right;\">\n",
       "      <th></th>\n",
       "      <th>委托时间</th>\n",
       "      <th>证券代码</th>\n",
       "      <th>证券名称</th>\n",
       "      <th>操作</th>\n",
       "      <th>备注</th>\n",
       "      <th>委托数量</th>\n",
       "      <th>成交数量</th>\n",
       "      <th>撤消数量</th>\n",
       "      <th>委托价格</th>\n",
       "      <th>订单类型</th>\n",
       "      <th>成交均价</th>\n",
       "      <th>合同编号</th>\n",
       "      <th>Unnamed: 12</th>\n",
       "    </tr>\n",
       "  </thead>\n",
       "  <tbody>\n",
       "    <tr>\n",
       "      <th>0</th>\n",
       "      <td>16:53:01</td>\n",
       "      <td>162411</td>\n",
       "      <td>华宝油气</td>\n",
       "      <td>买入</td>\n",
       "      <td>全部撤单</td>\n",
       "      <td>100</td>\n",
       "      <td>0</td>\n",
       "      <td>100</td>\n",
       "      <td>0.218</td>\n",
       "      <td>限价</td>\n",
       "      <td>0.0</td>\n",
       "      <td>1428348934</td>\n",
       "      <td></td>\n",
       "    </tr>\n",
       "    <tr>\n",
       "      <th>1</th>\n",
       "      <td>16:54:30</td>\n",
       "      <td>162411</td>\n",
       "      <td>华宝油气</td>\n",
       "      <td>买入</td>\n",
       "      <td>全部撤单</td>\n",
       "      <td>100</td>\n",
       "      <td>0</td>\n",
       "      <td>100</td>\n",
       "      <td>0.218</td>\n",
       "      <td>限价</td>\n",
       "      <td>0.0</td>\n",
       "      <td>1428398429</td>\n",
       "      <td></td>\n",
       "    </tr>\n",
       "    <tr>\n",
       "      <th>2</th>\n",
       "      <td>17:00:25</td>\n",
       "      <td>162411</td>\n",
       "      <td>华宝油气</td>\n",
       "      <td>卖出</td>\n",
       "      <td>未成交</td>\n",
       "      <td>100</td>\n",
       "      <td>0</td>\n",
       "      <td>0</td>\n",
       "      <td>0.238</td>\n",
       "      <td>限价</td>\n",
       "      <td>0.0</td>\n",
       "      <td>1428473361</td>\n",
       "      <td></td>\n",
       "    </tr>\n",
       "    <tr>\n",
       "      <th>3</th>\n",
       "      <td>17:06:34</td>\n",
       "      <td>162411</td>\n",
       "      <td>华宝油气</td>\n",
       "      <td>买入</td>\n",
       "      <td>未成交</td>\n",
       "      <td>100</td>\n",
       "      <td>0</td>\n",
       "      <td>0</td>\n",
       "      <td>0.226</td>\n",
       "      <td>限价</td>\n",
       "      <td>0.0</td>\n",
       "      <td>1428426470</td>\n",
       "      <td></td>\n",
       "    </tr>\n",
       "    <tr>\n",
       "      <th>4</th>\n",
       "      <td>16:52:04</td>\n",
       "      <td>162411</td>\n",
       "      <td>华宝油气</td>\n",
       "      <td>买入</td>\n",
       "      <td>全部撤单</td>\n",
       "      <td>100</td>\n",
       "      <td>0</td>\n",
       "      <td>100</td>\n",
       "      <td>0.218</td>\n",
       "      <td>限价</td>\n",
       "      <td>0.0</td>\n",
       "      <td>1428339249</td>\n",
       "      <td></td>\n",
       "    </tr>\n",
       "  </tbody>\n",
       "</table>\n",
       "</div>"
      ],
      "text/plain": [
       "       委托时间    证券代码  证券名称  操作    备注  委托数量  成交数量  撤消数量   委托价格 订单类型  成交均价  \\\n",
       "0  16:53:01  162411  华宝油气  买入  全部撤单   100     0   100  0.218   限价   0.0   \n",
       "1  16:54:30  162411  华宝油气  买入  全部撤单   100     0   100  0.218   限价   0.0   \n",
       "2  17:00:25  162411  华宝油气  卖出   未成交   100     0     0  0.238   限价   0.0   \n",
       "3  17:06:34  162411  华宝油气  买入   未成交   100     0     0  0.226   限价   0.0   \n",
       "4  16:52:04  162411  华宝油气  买入  全部撤单   100     0   100  0.218   限价   0.0   \n",
       "\n",
       "         合同编号 Unnamed: 12  \n",
       "0  1428348934              \n",
       "1  1428398429              \n",
       "2  1428473361              \n",
       "3  1428426470              \n",
       "4  1428339249              "
      ]
     },
     "execution_count": 81,
     "metadata": {},
     "output_type": "execute_result"
    }
   ],
   "source": [
    "df = pd.read_csv(io.StringIO(data),\n",
    "                 delimiter='\\t',\n",
    "                 na_filter=False)\n",
    "df"
   ]
  },
  {
   "cell_type": "markdown",
   "metadata": {},
   "source": [
    "## 获取当日成交"
   ]
  },
  {
   "cell_type": "code",
   "execution_count": 82,
   "metadata": {},
   "outputs": [],
   "source": [
    "get_left_menus_handle().get_item([0]).click()"
   ]
  },
  {
   "cell_type": "code",
   "execution_count": 132,
   "metadata": {},
   "outputs": [
    {
     "name": "stdout",
     "output_type": "stream",
     "text": [
      "成交时间\t证券代码\t证券名称\t操作\t成交数量\t成交均价\t成交金额\t合同编号\t成交编号\t撤单数量\t股票余额\n"
     ]
    },
    {
     "data": {
      "text/html": [
       "<div>\n",
       "<style scoped>\n",
       "    .dataframe tbody tr th:only-of-type {\n",
       "        vertical-align: middle;\n",
       "    }\n",
       "\n",
       "    .dataframe tbody tr th {\n",
       "        vertical-align: top;\n",
       "    }\n",
       "\n",
       "    .dataframe thead th {\n",
       "        text-align: right;\n",
       "    }\n",
       "</style>\n",
       "<table border=\"1\" class=\"dataframe\">\n",
       "  <thead>\n",
       "    <tr style=\"text-align: right;\">\n",
       "      <th></th>\n",
       "      <th>成交时间</th>\n",
       "      <th>证券代码</th>\n",
       "      <th>证券名称</th>\n",
       "      <th>操作</th>\n",
       "      <th>成交数量</th>\n",
       "      <th>成交均价</th>\n",
       "      <th>成交金额</th>\n",
       "      <th>合同编号</th>\n",
       "      <th>成交编号</th>\n",
       "      <th>撤单数量</th>\n",
       "      <th>股票余额</th>\n",
       "    </tr>\n",
       "  </thead>\n",
       "  <tbody>\n",
       "  </tbody>\n",
       "</table>\n",
       "</div>"
      ],
      "text/plain": [
       "Empty DataFrame\n",
       "Columns: [成交时间, 证券代码, 证券名称, 操作, 成交数量, 成交均价, 成交金额, 合同编号, 成交编号, 撤单数量, 股票余额]\n",
       "Index: []"
      ]
     },
     "execution_count": 132,
     "metadata": {},
     "output_type": "execute_result"
    }
   ],
   "source": [
    "switch_tab = main.window(\n",
    "    control_id=0x54B,\n",
    "    class_name='CCustomTabCtrl'\n",
    ")\n",
    "main.set_focus()\n",
    "time.sleep(0.5)\n",
    "pywinauto.keyboard.SendKeys('^e')\n",
    "\n",
    "grid = main.window(control_id=0x417, class_name='CVirtualGridCtrl')\n",
    "\n",
    "grid.set_focus() #.right_click()   # 模拟右键\n",
    "\n",
    "pywinauto.keyboard.SendKeys('^c')\n",
    "\n",
    "data = clipboard.GetData() #\n",
    "print(data)\n",
    "df = pd.read_csv(io.StringIO(data),\n",
    "                 delimiter='\\t',\n",
    "                 na_filter=False)\n",
    "df"
   ]
  },
  {
   "cell_type": "markdown",
   "metadata": {},
   "source": [
    "## 撤单"
   ]
  },
  {
   "cell_type": "code",
   "execution_count": 87,
   "metadata": {},
   "outputs": [],
   "source": [
    "get_left_menus_handle().get_item([0]).click()"
   ]
  },
  {
   "cell_type": "code",
   "execution_count": 89,
   "metadata": {},
   "outputs": [],
   "source": [
    "switch_tab = main.window(\n",
    "    control_id=0x54B,\n",
    "    class_name='CCustomTabCtrl'\n",
    ")\n",
    "time.sleep(0.5)\n",
    "main.set_focus()\n",
    "time.sleep(0.5)\n",
    "pywinauto.keyboard.SendKeys('^r')"
   ]
  },
  {
   "cell_type": "code",
   "execution_count": 114,
   "metadata": {},
   "outputs": [
    {
     "name": "stdout",
     "output_type": "stream",
     "text": [
      "委托时间\t证券代码\t证券名称\t操作\t备注\t委托数量\t成交数量\t撤消数量\t委托价格\t订单类型\t成交均价\t合同编号\t\r\n",
      "16:53:01\t162411\t华宝油气\t买入\t全部撤单\t100\t0\t100\t0.218\t限价\t0.000\t1428348934\t\r\n",
      "16:54:30\t162411\t华宝油气\t买入\t全部撤单\t100\t0\t100\t0.218\t限价\t0.000\t1428398429\t\r\n",
      "17:00:25\t162411\t华宝油气\t卖出\t未成交\t100\t0\t0\t0.238\t限价\t0.000\t1428473361\t\r\n",
      "17:06:34\t162411\t华宝油气\t买入\t未成交\t100\t0\t0\t0.226\t限价\t0.000\t1428426470\t\r\n",
      "17:27:00\t162411\t华宝油气\t买入\t未成交\t100\t0\t0\t0.226\t限价\t0.000\t1428521310\t\r\n",
      "17:27:15\t162411\t华宝油气\t买入\t未成交\t100\t0\t0\t0.226\t限价\t0.000\t1428534004\t\r\n",
      "16:52:04\t162411\t华宝油气\t买入\t全部撤单\t100\t0\t100\t0.218\t限价\t0.000\t1428339249\n"
     ]
    }
   ],
   "source": [
    "def get_entrusts():\n",
    "    grid = main.window(\n",
    "        control_id=0x417,\n",
    "        class_name='CVirtualGridCtrl'\n",
    "    )\n",
    "    grid.set_focus()\n",
    "    time.sleep(0.5)\n",
    "    pywinauto.keyboard.SendKeys('^c')\n",
    "    time.sleep(0.5)\n",
    "\n",
    "    data = clipboard.GetData()\n",
    "    print(data)\n",
    "    df = pd.read_csv(io.StringIO(data),\n",
    "                     delimiter='\\t',\n",
    "                     na_filter=False)\n",
    "    return df.to_dict('records')\n",
    "\n",
    "entrusts = get_entrusts()"
   ]
  },
  {
   "cell_type": "code",
   "execution_count": 115,
   "metadata": {},
   "outputs": [
    {
     "data": {
      "text/plain": [
       "[{'委托时间': '16:53:01',\n",
       "  '证券代码': 162411,\n",
       "  '证券名称': '华宝油气',\n",
       "  '操作': '买入',\n",
       "  '备注': '全部撤单',\n",
       "  '委托数量': 100,\n",
       "  '成交数量': 0,\n",
       "  '撤消数量': 100,\n",
       "  '委托价格': 0.218,\n",
       "  '订单类型': '限价',\n",
       "  '成交均价': 0.0,\n",
       "  '合同编号': 1428348934,\n",
       "  'Unnamed: 12': ''},\n",
       " {'委托时间': '16:54:30',\n",
       "  '证券代码': 162411,\n",
       "  '证券名称': '华宝油气',\n",
       "  '操作': '买入',\n",
       "  '备注': '全部撤单',\n",
       "  '委托数量': 100,\n",
       "  '成交数量': 0,\n",
       "  '撤消数量': 100,\n",
       "  '委托价格': 0.218,\n",
       "  '订单类型': '限价',\n",
       "  '成交均价': 0.0,\n",
       "  '合同编号': 1428398429,\n",
       "  'Unnamed: 12': ''},\n",
       " {'委托时间': '17:00:25',\n",
       "  '证券代码': 162411,\n",
       "  '证券名称': '华宝油气',\n",
       "  '操作': '卖出',\n",
       "  '备注': '未成交',\n",
       "  '委托数量': 100,\n",
       "  '成交数量': 0,\n",
       "  '撤消数量': 0,\n",
       "  '委托价格': 0.23800000000000002,\n",
       "  '订单类型': '限价',\n",
       "  '成交均价': 0.0,\n",
       "  '合同编号': 1428473361,\n",
       "  'Unnamed: 12': ''},\n",
       " {'委托时间': '17:06:34',\n",
       "  '证券代码': 162411,\n",
       "  '证券名称': '华宝油气',\n",
       "  '操作': '买入',\n",
       "  '备注': '未成交',\n",
       "  '委托数量': 100,\n",
       "  '成交数量': 0,\n",
       "  '撤消数量': 0,\n",
       "  '委托价格': 0.226,\n",
       "  '订单类型': '限价',\n",
       "  '成交均价': 0.0,\n",
       "  '合同编号': 1428426470,\n",
       "  'Unnamed: 12': ''},\n",
       " {'委托时间': '17:27:00',\n",
       "  '证券代码': 162411,\n",
       "  '证券名称': '华宝油气',\n",
       "  '操作': '买入',\n",
       "  '备注': '未成交',\n",
       "  '委托数量': 100,\n",
       "  '成交数量': 0,\n",
       "  '撤消数量': 0,\n",
       "  '委托价格': 0.226,\n",
       "  '订单类型': '限价',\n",
       "  '成交均价': 0.0,\n",
       "  '合同编号': 1428521310,\n",
       "  'Unnamed: 12': ''},\n",
       " {'委托时间': '17:27:15',\n",
       "  '证券代码': 162411,\n",
       "  '证券名称': '华宝油气',\n",
       "  '操作': '买入',\n",
       "  '备注': '未成交',\n",
       "  '委托数量': 100,\n",
       "  '成交数量': 0,\n",
       "  '撤消数量': 0,\n",
       "  '委托价格': 0.226,\n",
       "  '订单类型': '限价',\n",
       "  '成交均价': 0.0,\n",
       "  '合同编号': 1428534004,\n",
       "  'Unnamed: 12': ''},\n",
       " {'委托时间': '16:52:04',\n",
       "  '证券代码': 162411,\n",
       "  '证券名称': '华宝油气',\n",
       "  '操作': '买入',\n",
       "  '备注': '全部撤单',\n",
       "  '委托数量': 100,\n",
       "  '成交数量': 0,\n",
       "  '撤消数量': 100,\n",
       "  '委托价格': 0.218,\n",
       "  '订单类型': '限价',\n",
       "  '成交均价': 0.0,\n",
       "  '合同编号': 1428339249,\n",
       "  'Unnamed: 12': ''}]"
      ]
     },
     "execution_count": 115,
     "metadata": {},
     "output_type": "execute_result"
    }
   ],
   "source": [
    "entrusts"
   ]
  },
  {
   "cell_type": "code",
   "execution_count": 116,
   "metadata": {},
   "outputs": [],
   "source": [
    "entrust_no = \"1428473361\""
   ]
  },
  {
   "cell_type": "code",
   "execution_count": 117,
   "metadata": {},
   "outputs": [],
   "source": [
    "def cancel_by_double_click(row):\n",
    "    app.top_window().set_focus()\n",
    "    x = 50\n",
    "    y = 50 + 20 * row\n",
    "    app.top_window().window(\n",
    "            control_id=0x417,\n",
    "            class_name='CVirtualGridCtrl'\n",
    "    ).double_click(coords=(x, y))\n",
    "    \n",
    "#     app.top_window().window(control_id=0x6, class_name='Button').click()  # 确定撤单"
   ]
  },
  {
   "cell_type": "code",
   "execution_count": 125,
   "metadata": {
    "scrolled": true
   },
   "outputs": [
    {
     "name": "stdout",
     "output_type": "stream",
     "text": [
      "0 1428348934\n",
      "canceling 1428473361\n",
      "1 1428398429\n",
      "2 1428473361\n",
      "3 1428426470\n",
      "4 1428521310\n",
      "5 1428534004\n",
      "6 1428339249\n"
     ]
    }
   ],
   "source": [
    "for i, entrust in enumerate(entrusts):\n",
    "    print(i, entrust[\"合同编号\"])\n",
    "#     if str(entrust[\"合同编号\"]) == entrust_no:\n",
    "    if i == 0:\n",
    "        print(\"canceling\", entrust_no)\n",
    "        cancel_by_double_click(i)"
   ]
  }
 ],
 "metadata": {
  "kernelspec": {
   "display_name": "Python 3",
   "language": "python",
   "name": "python3"
  },
  "language_info": {
   "codemirror_mode": {
    "name": "ipython",
    "version": 3
   },
   "file_extension": ".py",
   "mimetype": "text/x-python",
   "name": "python",
   "nbconvert_exporter": "python",
   "pygments_lexer": "ipython3",
   "version": "3.7.3"
  }
 },
 "nbformat": 4,
 "nbformat_minor": 2
}